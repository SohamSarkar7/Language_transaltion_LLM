{
 "cells": [
  {
   "cell_type": "code",
   "execution_count": 1,
   "metadata": {},
   "outputs": [],
   "source": [
    "import os\n",
    "\n",
    "from dotenv import load_dotenv\n",
    "load_dotenv()\n",
    "\n",
    "import openai\n",
    "\n",
    "openai.api_key = os.getenv(\"OPEN_API_KEY\")\n",
    "\n",
    "groq_api_key = os.getenv(\"GROQ_API_KEY\")\n",
    "\n"
   ]
  },
  {
   "cell_type": "code",
   "execution_count": 4,
   "metadata": {},
   "outputs": [
    {
     "data": {
      "text/plain": [
       "ChatGroq(client=<groq.resources.chat.completions.Completions object at 0x000001EB90A9EDA0>, async_client=<groq.resources.chat.completions.AsyncCompletions object at 0x000001EB90A9D240>, model_name='Gemma2-9b-It', model_kwargs={}, groq_api_key=SecretStr('**********'))"
      ]
     },
     "execution_count": 4,
     "metadata": {},
     "output_type": "execute_result"
    }
   ],
   "source": [
    "from langchain_groq import ChatGroq\n",
    "from langchain_openai import ChatOpenAI\n",
    "\n",
    "model = ChatGroq(model=\"Gemma2-9b-It\",groq_api_key=groq_api_key)\n",
    "model"
   ]
  },
  {
   "cell_type": "code",
   "execution_count": null,
   "metadata": {},
   "outputs": [
    {
     "data": {
      "text/plain": [
       "AIMessage(content=\"Cristiano Ronaldo dos Santos Aveiro, known simply as **Cristiano Ronaldo**, is a Portuguese professional footballer widely regarded as one of the greatest players of all time. \\n\\nHere are some key facts about him:\\n\\n* **Position:** Forward\\n* **Born:** February 5, 1985, in Funchal, Madeira, Portugal\\n* **Current Team:** Al-Nassr (Saudi Pro League)\\n* **Previous Teams:** Sporting CP, Manchester United (twice), Real Madrid, Juventus\\n* **National Team:** Portugal\\n\\n**Accomplishments:**\\n\\n* **5 Ballon d'Or awards:** 2008, 2013, 2014, 2016, 2017\\n* **European Championship winner (2016)** with Portugal\\n* **UEFA Champions League winner (5 times)** with Manchester United and Real Madrid\\n* **Premier League winner (3 times)** with Manchester United\\n* **La Liga winner (2 times)** with Real Madrid\\n* **Serie A winner (1 time)** with Juventus\\n\\n**Known for:**\\n\\n* **Exceptional dribbling skills:** Ronaldo is renowned for his ability to weave past defenders with ease.\\n* **Goal-scoring prowess:** He is one of the highest-scoring players in football history.\\n* **Physical strength and athleticism:** Ronaldo possesses incredible speed, power, and stamina.\\n* **Dedication and hard work:** He is known for his relentless pursuit of excellence and his strict training regimen.\\n* **Global superstar:** Ronaldo is one of the most recognizable athletes in the world and has a massive following on social media.\\n\\n\\nBeyond his on-field achievements, Cristiano Ronaldo is also a successful businessman and philanthropist.\\n\", additional_kwargs={}, response_metadata={'token_usage': {'completion_tokens': 359, 'prompt_tokens': 13, 'total_tokens': 372, 'completion_time': 0.652727273, 'prompt_time': 0.001915945, 'queue_time': 0.233768635, 'total_time': 0.654643218}, 'model_name': 'Gemma2-9b-It', 'system_fingerprint': 'fp_10c08bf97d', 'finish_reason': 'stop', 'logprobs': None}, id='run-76e952b4-e01b-4a17-8bff-a991ebee9c21-0', usage_metadata={'input_tokens': 13, 'output_tokens': 359, 'total_tokens': 372})"
      ]
     },
     "execution_count": 5,
     "metadata": {},
     "output_type": "execute_result"
    }
   ],
   "source": [
    "model.invoke(\"Who is Cristiano Ronaldo?\")"
   ]
  },
  {
   "cell_type": "code",
   "execution_count": 6,
   "metadata": {},
   "outputs": [],
   "source": [
    "from langchain_core.messages import HumanMessage , SystemMessage\n",
    "\n",
    "messages = [\n",
    "    SystemMessage(content= \"Translate the following from English to Bengali\"),\n",
    "    HumanMessage(content=\"Hello How are you?\")\n",
    "]"
   ]
  },
  {
   "cell_type": "code",
   "execution_count": 8,
   "metadata": {},
   "outputs": [],
   "source": [
    "result = model.invoke(messages)"
   ]
  },
  {
   "cell_type": "code",
   "execution_count": 10,
   "metadata": {},
   "outputs": [
    {
     "data": {
      "text/plain": [
       "\"নমস্কার, কেমন আছেন? \\n(Nomoskar, kemne achen?) \\n\\n\\nThis translates to:\\n\\n* **নমস্কার** (Nomoskar) - Hello\\n* **কেমন আছেন** (kemne achen) - How are you?\\n\\n\\nLet me know if you have any other phrases you'd like me to translate!\\n\""
      ]
     },
     "execution_count": 10,
     "metadata": {},
     "output_type": "execute_result"
    }
   ],
   "source": [
    "from langchain_core.output_parsers import StrOutputParser\n",
    "\n",
    "parser = StrOutputParser()\n",
    "\n",
    "parser.invoke(result)"
   ]
  },
  {
   "cell_type": "code",
   "execution_count": 11,
   "metadata": {},
   "outputs": [
    {
     "data": {
      "text/plain": [
       "'নমস্কার, কেমন আছেন? (Nomoshkar, kemne achen?) \\n\\n\\n**Explanation:**\\n\\n* **নমস্কার (Nomoshkar):**  This is a common Bengali greeting, similar to \"Hello\" or \"Good day.\"\\n* **কেমন আছেন? (Kemne achen?):** This translates to \"How are you?\" It\\'s a polite way to ask someone how they are doing. \\n\\n\\nLet me know if you have any other phrases you\\'d like translated!\\n'"
      ]
     },
     "execution_count": 11,
     "metadata": {},
     "output_type": "execute_result"
    }
   ],
   "source": [
    "## Using LCEL - Chain the Components\n",
    "\n",
    "chain  = model | parser\n",
    "\n",
    "chain.invoke(messages)"
   ]
  },
  {
   "cell_type": "code",
   "execution_count": 13,
   "metadata": {},
   "outputs": [],
   "source": [
    "## Prompt Templates\n",
    "\n",
    "from langchain_core.prompts import ChatPromptTemplate\n",
    "\n",
    "generic_template = \"Translate the following into {language}:\"\n",
    "\n",
    "prompt = ChatPromptTemplate.from_messages(\n",
    "\n",
    "    [(\"system\",generic_template),(\"user\",\"{text}\")]\n",
    ")"
   ]
  },
  {
   "cell_type": "code",
   "execution_count": 15,
   "metadata": {},
   "outputs": [],
   "source": [
    "result = prompt.invoke({\"language\":\"French\",\"text\":\"Hello\"})"
   ]
  },
  {
   "cell_type": "code",
   "execution_count": 16,
   "metadata": {},
   "outputs": [
    {
     "data": {
      "text/plain": [
       "[SystemMessage(content='Translate the following into French:', additional_kwargs={}, response_metadata={}),\n",
       " HumanMessage(content='Hello', additional_kwargs={}, response_metadata={})]"
      ]
     },
     "execution_count": 16,
     "metadata": {},
     "output_type": "execute_result"
    }
   ],
   "source": [
    "result.to_messages()"
   ]
  },
  {
   "cell_type": "code",
   "execution_count": 19,
   "metadata": {},
   "outputs": [
    {
     "data": {
      "text/plain": [
       "'নমস্কার (Nomoshkar) \\n'"
      ]
     },
     "execution_count": 19,
     "metadata": {},
     "output_type": "execute_result"
    }
   ],
   "source": [
    "chain = prompt| model |parser\n",
    "chain.invoke({\"language\":\"bengali\",\"text\":\"Hello\"})"
   ]
  },
  {
   "cell_type": "code",
   "execution_count": null,
   "metadata": {},
   "outputs": [],
   "source": []
  },
  {
   "cell_type": "code",
   "execution_count": null,
   "metadata": {},
   "outputs": [],
   "source": []
  }
 ],
 "metadata": {
  "kernelspec": {
   "display_name": "Python 3",
   "language": "python",
   "name": "python3"
  },
  "language_info": {
   "codemirror_mode": {
    "name": "ipython",
    "version": 3
   },
   "file_extension": ".py",
   "mimetype": "text/x-python",
   "name": "python",
   "nbconvert_exporter": "python",
   "pygments_lexer": "ipython3",
   "version": "3.10.16"
  }
 },
 "nbformat": 4,
 "nbformat_minor": 2
}
